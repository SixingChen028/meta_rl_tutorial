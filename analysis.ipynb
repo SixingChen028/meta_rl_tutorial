{
 "cells": [
  {
   "cell_type": "code",
   "execution_count": 1,
   "metadata": {},
   "outputs": [],
   "source": [
    "import os\n",
    "import numpy as np\n",
    "import matplotlib.pyplot as plt\n",
    "import warnings\n",
    "warnings.filterwarnings('ignore')\n",
    "\n",
    "from environment import *\n",
    "from network import *\n",
    "\n",
    "plt.rcParams['font.size'] = 12"
   ]
  },
  {
   "cell_type": "code",
   "execution_count": 2,
   "metadata": {},
   "outputs": [],
   "source": [
    "# set random seed\n",
    "seed = 15\n",
    "torch.manual_seed(seed)\n",
    "np.random.seed(seed)\n",
    "random.seed(seed)"
   ]
  },
  {
   "cell_type": "code",
   "execution_count": 3,
   "metadata": {},
   "outputs": [],
   "source": [
    "exp_path = 'results/exp_0'\n",
    "\n",
    "net = torch.load(os.path.join(exp_path, f'net.pth'))\n",
    "\n",
    "env = HarlowEnv()\n",
    "env = MetaLearningWrapper(env)"
   ]
  },
  {
   "cell_type": "code",
   "execution_count": 4,
   "metadata": {},
   "outputs": [],
   "source": [
    "num_episodes = 10000\n",
    "\n",
    "data = {\n",
    "    'correct_answers': [],\n",
    "    'actions': [],\n",
    "}\n",
    "\n",
    "for i in range(num_episodes):\n",
    "    # initialize recording\n",
    "    correct_answers_ep = []\n",
    "    actions_ep = []\n",
    "\n",
    "    # initialize a trial\n",
    "    done = False\n",
    "    states = None\n",
    "\n",
    "    # reset environment\n",
    "    obs, info = env.reset()\n",
    "    obs = torch.Tensor(obs).unsqueeze(dim = 0) # (1, feature_size)\n",
    "    action_mask = torch.tensor(info['mask']) # (action_size,)\n",
    "\n",
    "    with torch.no_grad():\n",
    "        # iterate through a trial\n",
    "        while not done:\n",
    "            # step the net\n",
    "            action, policy, log_prob, entropy, value, states = net(\n",
    "                obs, states, action_mask\n",
    "            )\n",
    "\n",
    "            # record results for the timestep\n",
    "            if env.stage == 'fixation':\n",
    "                correct_answers_ep.append(env.correct_answer)\n",
    "\n",
    "            # step the env\n",
    "            obs, reward, done, truncated, info = env.step(action.item())\n",
    "            obs = torch.Tensor(obs).unsqueeze(dim = 0) # (1, feature_size)\n",
    "            action_mask = torch.tensor(info['mask']) # (action_size,)\n",
    "\n",
    "            # record results for the timestep\n",
    "            if env.stage == 'fixation':\n",
    "                actions_ep.append(int(action))\n",
    "    \n",
    "    data['correct_answers'].append(correct_answers_ep)\n",
    "    data['actions'].append(actions_ep)\n",
    "\n",
    "data['correct_answers'] = np.array(data['correct_answers'])\n",
    "data['actions'] = np.array(data['actions'])"
   ]
  },
  {
   "cell_type": "code",
   "execution_count": 5,
   "metadata": {},
   "outputs": [
    {
     "data": {
      "image/png": "[encoded data removed]",
      "text/plain": [
       "<Figure size 400x300 with 1 Axes>"
      ]
     },
     "metadata": {},
     "output_type": "display_data"
    }
   ],
   "source": [
    "# compute accuracies\n",
    "accuracies = (data['actions'] == data['correct_answers']).astype(int)\n",
    "\n",
    "# get intices where there is no change in the first 6 trials\n",
    "indices = np.all(data['correct_answers'][:, :6] == data['correct_answers'][:, 0][:, None], axis = 1)\n",
    "\n",
    "# average accuracies\n",
    "mean_accuracies = accuracies[indices, :6].mean(axis = 0)\n",
    "\n",
    "plt.figure(figsize = (4, 3))\n",
    "plt.plot(np.arange(1, 7), mean_accuracies, marker = 'o')\n",
    "plt.xticks([1, 2, 3, 4, 5, 6])\n",
    "plt.xlabel('Trial')\n",
    "plt.ylabel('Performance')\n",
    "# plt.show()\n",
    "plt.savefig(os.path.join(exp_path, 'fig.svg'), bbox_inches = 'tight')"
   ]
  },
  {
   "cell_type": "code",
   "execution_count": null,
   "metadata": {},
   "outputs": [],
   "source": []
  }
 ],
 "metadata": {
  "kernelspec": {
   "display_name": "Python 3",
   "language": "python",
   "name": "python3"
  },
  "language_info": {
   "codemirror_mode": {
    "name": "ipython",
    "version": 3
   },
   "file_extension": ".py",
   "mimetype": "text/x-python",
   "name": "python",
   "nbconvert_exporter": "python",
   "pygments_lexer": "ipython3",
   "version": "3.10.14"
  }
 },
 "nbformat": 4,
 "nbformat_minor": 2
}
